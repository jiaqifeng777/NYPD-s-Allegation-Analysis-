{
 "cells": [
  {
   "cell_type": "markdown",
   "metadata": {},
   "source": [
    "# Summary of Findings\n",
    "\n",
    "\n",
    "### Introduction\n",
    "In this project, I will build a model to predict the outcome of an allegation. As \"outcome_descroption\" in the data is a nominal variable, I treat my prediction problem as a classification problem, that is, classifying different outcomes based on selected features and then make predictions. The evaluation metric I choose for my model is the accuracy. This is because the aim of improving my model is to increase the proportin of predictions that are correct, so I will treat all correct/incorrect guesses equally.\n",
    "\n",
    "\n",
    "### Baseline Model\n",
    "In my baseline model, I use RandomForestClassifier and include 3 generic features that I think would most likley to affect the outcome\n",
    "\n",
    "1.1 \"rank_incident\": ordinal\n",
    "- Police with higher ranks are more experienced, so that they may be less likely to have severe misconduct, and thus the outcome of the complaints they received may be more positive than those in lower ranks. \n",
    "\n",
    "\n",
    "1.2 \"mos_gender\": nominal\n",
    "- There may be some tendencies when making the sanction for police in different gender groups. For example, police in certain gender group may be less likely to sanctioned as misconduct by NYPD at the end\n",
    "\n",
    "\n",
    "1.3 \"open_length\": quantitative\n",
    "- Complaints with shorter open length may be decided more easily, so that they are more likely to fall into similar outcomes categories, so open length may indicate the outcome.\n",
    "\n",
    "\n",
    "The average R^2 of my baseline model is about 0.390. The baseline model only explains 38.9% of the variablility of the response variable. The accuracy of the baseline model is 0.388, which needs further improvements.\n",
    "\n",
    "### Final Model\n",
    "\n",
    "In my final model, I still use the RandomForestClassifier with the previous 3 features, but add 3 more engineered features:\n",
    "\n",
    "2.1 standard scaled \"open_length\" within differnet \"fado_type\" groups: quantitative\n",
    "- Different FADO types may also have different open length, so I standard scaled \"open_length\" within differnet \"fado_type\" groups.\n",
    "\n",
    "\n",
    "2.2 \"allegation\" is binned into several major categories: nominal\n",
    "- Different types of allegations may have an impact on the outcome. Some allegations may be more severe than others, so that the outcome may also be more severe. I binned some types of allegations into major ones to make the types more general.\n",
    "\n",
    "\n",
    "2.3 \"unique_mos_id\" is engineered to the number of times each one appears in records: quantitative\n",
    "- There may be police who often receive complaints, which may indicate they are more likely to have misconduct, so that they are more likely to receive more severe outcomes. So I incorporate the counts of the occurrence of each mos id in records.\n",
    "\n",
    "The average R^2 of my final model is about 0.434. And the accuracy of the final model is 0.431. The performance of my final model is better than that of the baseline model.\n",
    "\n",
    "I then use GridSearchCV to perform a search for the best model and parameters:\n",
    "\n",
    "- The average over the cross-validation fold scores of the best model is 0.438. \n",
    "\n",
    "- I find the best parameters for my model are: max_depth=15, min_samples_leaf=5, min_samples_split=5, n_estimators=12. \n",
    "\n",
    "- The resulting R^2 increases to 0.435. So now the final model explains 43.5% of the variability of the response variable. And the accuracy now also increases to 0.435.\n",
    "\n",
    "\n",
    "### Fairness Evaluation\n",
    "I want to explore whether my model is fairer for male police than female police, so I choose \"mos_gender\" to construct my interesting subset. I then split my subset into two subsets by \"mos_gender\" and run a permutation test with R^2 as the test statistics. This is because I care more about how my model fits the data in female and male police subset, or whether it is biased (more well-fitted) to a gender.\n",
    "\n",
    "Permutation test with the significance level of 95%:\n",
    "\n",
    "- Null Hypothesis: My model is fair, and the R^2 for my two subsets are roughly the same\n",
    "- Alternative Hypothesis: My model is unfair, and the R^2 for the male subset is higher than the female subset\n",
    "\n",
    "I get a p-value of 0.81 > 0.05 from my permutation test, so I fail to reject the null hypothesis and it is very likely that my model is fair on different genders of the police."
   ]
  },
  {
   "cell_type": "markdown",
   "metadata": {},
   "source": [
    "# Code"
   ]
  },
  {
   "cell_type": "code",
   "execution_count": 43,
   "metadata": {},
   "outputs": [],
   "source": [
    "import matplotlib.pyplot as plt\n",
    "import numpy as np\n",
    "import os\n",
    "import pandas as pd\n",
    "import seaborn as sns\n",
    "import datetime\n",
    "%matplotlib inline\n",
    "%config InlineBackend.figure_format = 'retina'  # Higher resolution figures\n",
    "\n",
    "\n",
    "from sklearn.preprocessing import FunctionTransformer\n",
    "from sklearn.preprocessing import OneHotEncoder\n",
    "from sklearn.pipeline import Pipeline\n",
    "from sklearn.compose import ColumnTransformer\n",
    "from sklearn.model_selection import train_test_split\n",
    "from sklearn.ensemble import RandomForestClassifier\n",
    "from sklearn.model_selection import GridSearchCV\n",
    "from sklearn.decomposition import PCA\n",
    "from sklearn.impute import SimpleImputer\n",
    "from sklearn.preprocessing import StandardScaler\n",
    "from sklearn import metrics\n",
    "from sklearn.metrics import accuracy_score"
   ]
  },
  {
   "cell_type": "markdown",
   "metadata": {},
   "source": [
    "#### Data Cleaning"
   ]
  },
  {
   "cell_type": "code",
   "execution_count": 2,
   "metadata": {},
   "outputs": [],
   "source": [
    "df = pd.read_csv('data/allegations_202007271729.csv')"
   ]
  },
  {
   "cell_type": "code",
   "execution_count": 3,
   "metadata": {},
   "outputs": [],
   "source": [
    "# Replace unknown with null values\n",
    "df = df.replace('Unknown', np.NaN)"
   ]
  },
  {
   "cell_type": "code",
   "execution_count": 4,
   "metadata": {},
   "outputs": [],
   "source": [
    "# Combine receive date related columns to create datetime object for receive date\n",
    "receive = df[['month_received', 'year_received']]\n",
    "receive = receive.rename(columns = {'month_received' : 'month' , 'year_received' : 'year'})\n",
    "receive = receive.assign(day = 1)\n",
    "receive_date = pd.to_datetime(receive[[\"month\", \"year\",\"day\"]])\n",
    "df = df.assign(receive_date = receive_date)\n",
    "\n",
    "# Combine close date related columns to create datetime object for close date\n",
    "close = df[['month_closed', 'year_closed']]\n",
    "close = close.rename(columns = {'month_closed' : 'month' , 'year_closed' : 'year'})\n",
    "close = close.assign(day = 1)\n",
    "close_date = pd.to_datetime(close[[\"month\", \"year\",\"day\"]])\n",
    "df = df.assign(close_date = close_date)"
   ]
  },
  {
   "cell_type": "code",
   "execution_count": 5,
   "metadata": {},
   "outputs": [],
   "source": [
    "# Compute the length of open time for each complaint based on \"receive_date\" and \"close_date\", \n",
    "# and add a column \"open_length\" to the dataset:\n",
    "df = df.assign(open_length = df['close_date'] - df['receive_date'])\n",
    "df.open_length = df.open_length.dt.days"
   ]
  },
  {
   "cell_type": "markdown",
   "metadata": {},
   "source": [
    "### Baseline Model"
   ]
  },
  {
   "cell_type": "markdown",
   "metadata": {},
   "source": [
    "Only incorporate 3 generic features that I think are most likely to affect the outcome:\n",
    "1. \"rank_incident\": ordinal\n",
    "2. \"mos_gender\": nomial\n",
    "3. \"open_length\": quantitative"
   ]
  },
  {
   "cell_type": "code",
   "execution_count": 6,
   "metadata": {},
   "outputs": [],
   "source": [
    "# Ordinal encoding the rank of officers\n",
    "df['ordinal_rank_incident'] = df.rank_incident.map({'Police Officer':0, 'Detective':1, \n",
    "                                                    'Sergeant':2, 'Lieutenant':3,\n",
    "                                                    'Captain':4, 'Deputy Inspector':5, \n",
    "                                                    'Inspector':6, 'Chiefs and other ranks':7\n",
    "                                                    })"
   ]
  },
  {
   "cell_type": "code",
   "execution_count": 44,
   "metadata": {},
   "outputs": [],
   "source": [
    "# Build baseline model with these 3 features\n",
    "cats = Pipeline([\n",
    "    ('ohe', OneHotEncoder(sparse=False, handle_unknown = 'ignore')), \n",
    "    ('pca', PCA(svd_solver='full'))\n",
    "])\n",
    "catcols = ['mos_gender']\n",
    "\n",
    "nums = Pipeline([('std_scaling', StandardScaler())])\n",
    "numcols = ['ordinal_rank_incident', 'open_length']\n",
    "\n",
    "ct = ColumnTransformer([\n",
    "    ('catcols', cats, catcols),\n",
    "    ('numcols', SimpleImputer(strategy='constant', fill_value=0), numcols)\n",
    "])\n",
    "\n",
    "pl = Pipeline([('feats', ct), \n",
    "               ('classifier', RandomForestClassifier(max_depth=10,\n",
    "                                                           min_samples_leaf=2, \n",
    "                                                           min_samples_split=2,\n",
    "                                                           n_estimators=5)\n",
    "               )\n",
    "              ])"
   ]
  },
  {
   "cell_type": "code",
   "execution_count": 45,
   "metadata": {},
   "outputs": [
    {
     "data": {
      "text/plain": [
       "0.39261102941176473"
      ]
     },
     "execution_count": 45,
     "metadata": {},
     "output_type": "execute_result"
    }
   ],
   "source": [
    "# features\n",
    "va_df = df.dropna(axis = 0)\n",
    "X = va_df[['open_length',\n",
    "           'ordinal_rank_incident', \n",
    "           'mos_gender'\n",
    "         ]]\n",
    "\n",
    "# outcome\n",
    "y = va_df.outcome_description\n",
    "X_train, X_test, y_train, y_test = train_test_split(X, y, test_size=0.25)\n",
    "\n",
    "rsqr_lst = []\n",
    "for i in range(200):\n",
    "    pl.fit(X_train, y_train);\n",
    "    rsqr = pl.score(X_test, y_test)\n",
    "    rsqr_lst.append(rsqr)\n",
    "np.mean(rsqr_lst)"
   ]
  },
  {
   "cell_type": "markdown",
   "metadata": {},
   "source": [
    "The R^2 for my baseline model is only 0.390."
   ]
  },
  {
   "cell_type": "code",
   "execution_count": 48,
   "metadata": {},
   "outputs": [
    {
     "data": {
      "text/plain": [
       "0.4314705882352941"
      ]
     },
     "execution_count": 48,
     "metadata": {},
     "output_type": "execute_result"
    }
   ],
   "source": [
    "pred = pl.predict(X_test)\n",
    "accuracy_score(y_test, pred)"
   ]
  },
  {
   "cell_type": "markdown",
   "metadata": {},
   "source": [
    "The accuracy of the baseline model is 0.388, which needs further improvements."
   ]
  },
  {
   "cell_type": "markdown",
   "metadata": {},
   "source": [
    "### Final Model"
   ]
  },
  {
   "cell_type": "markdown",
   "metadata": {},
   "source": [
    "I incorporate three more engineered features in the final model: \n",
    "1. \"open_length\" is standard scaled within differnet \"fado_type\" groups\n",
    "2. \"allegation\" is binned into several major categories\n",
    "3. \"unique_mos_id\" is enginnered as the number of times each one appears in records and save as \"id_cnt\""
   ]
  },
  {
   "cell_type": "code",
   "execution_count": 10,
   "metadata": {},
   "outputs": [],
   "source": [
    "# Design StdScalerByGroup Transformer for standard scaling \"open_length\"\n",
    "# within differnet \"fado_type\" groups\n",
    "\n",
    "from sklearn.base import BaseEstimator, TransformerMixin\n",
    "class StdScalerByGroup(BaseEstimator, TransformerMixin):\n",
    "\n",
    "    def __init__(self):\n",
    "        pass\n",
    "\n",
    "    def fit(self, X, y=None):\n",
    "        \"\"\"\n",
    "        :Example:\n",
    "        >>> cols = {'g': ['A', 'A', 'B', 'B'], 'c1': [1, 2, 2, 2], 'c2': [3, 1, 2, 0]}\n",
    "        >>> X = pd.DataFrame(cols)\n",
    "        >>> std = StdScalerByGroup().fit(X)\n",
    "        >>> std.grps_ is not None\n",
    "        True\n",
    "        \"\"\"\n",
    "        # X may not be a pandas dataframe (e.g. a np.array)\n",
    "        df = pd.DataFrame(X)\n",
    "\n",
    "        # A dictionary of means/standard-deviations for each column, for each group.\n",
    "        colname = df.columns\n",
    "        grp_mean = df.groupby(colname[0]).aggregate(np.mean)\n",
    "        grp_mean.columns = [i + '_mean' for i in grp_mean.columns]\n",
    "        grp_sd = df.groupby(colname[0]).aggregate(np.std)\n",
    "        grp_sd.columns = [i + '_sd' for i in grp_sd.columns]\n",
    "        \n",
    "        self.grps_ = pd.concat([grp_mean, grp_sd], axis = 1)\n",
    "\n",
    "        return self\n",
    "    \n",
    "    def transform(self, X, y=None):\n",
    "        \"\"\"\n",
    "        :Example:\n",
    "        >>> cols = {'g': ['A', 'A', 'B', 'B'], 'c1': [1, 2, 3, 4], 'c2': [1, 2, 3, 4]}\n",
    "        >>> X = pd.DataFrame(cols)\n",
    "        >>> std = StdScalerByGroup().fit(X)\n",
    "        >>> out = std.transform(X)\n",
    "        >>> out.shape == (4, 2)\n",
    "        True\n",
    "        >>> np.isclose(out.abs(), 0.707107, atol=0.001).all().all()\n",
    "        True\n",
    "        \"\"\"\n",
    "\n",
    "        try:\n",
    "            getattr(self, \"grps_\")\n",
    "        except AttributeError:\n",
    "            raise RuntimeError(\"You must fit the transformer before tranforming the data!\")\n",
    "\n",
    "\n",
    "        # Define a helper function here?\n",
    "        def zscore (df, grp, col):\n",
    "            mean = self.grps_.loc[grp, col + '_mean']\n",
    "            sd = self.grps_.loc[grp, col + '_sd']\n",
    "            df.loc[grp, col] = df.loc[grp, col].apply(lambda x: (x - mean) / sd)\n",
    "\n",
    "        \n",
    "        # X may not be a dataframe (e.g. np.array)\n",
    "        df = pd.DataFrame(X)\n",
    "        colname = df.columns\n",
    "        grpcol = colname[0]\n",
    "        df = df.set_index(grpcol)\n",
    "        grps_name = df.index.unique()\n",
    "        cols_name = df.columns\n",
    "        for grp in grps_name:\n",
    "            for col in cols_name:\n",
    "                zscore(df, grp, col)\n",
    "        \n",
    "        return df"
   ]
  },
  {
   "cell_type": "code",
   "execution_count": 11,
   "metadata": {},
   "outputs": [],
   "source": [
    "# Functions to bin \"allegation\" into several major categories\n",
    "\n",
    "def categorize_alle(alle): \n",
    "    if alle in ['Word', 'Threat of arrest']:\n",
    "        cate = 'Word'\n",
    "    elif alle in ['Stop', 'Vehicle stop']:\n",
    "        cate = 'Stop'\n",
    "    elif alle in ['Search (of person)', 'Frisk', 'Vehicle search']:\n",
    "        cate = 'Search'\n",
    "    elif alle in ['Premises entered and/or searched', 'Refusal to provide name/shield number']:\n",
    "        cate = 'Special'    \n",
    "    else:\n",
    "        cate = 'Force'\n",
    "    return cate\n",
    "\n",
    "\n",
    "def cate_on_alle(alle_col):\n",
    "    df = pd.DataFrame(alle_col)\n",
    "    df.allegation = df.allegation.apply(lambda x: categorize_alle(x))\n",
    "    return df\n",
    "\n",
    "# Add the binned allegation back to dataframe\n",
    "df['binned_alle'] = cate_on_alle(df.allegation)"
   ]
  },
  {
   "cell_type": "code",
   "execution_count": 12,
   "metadata": {},
   "outputs": [],
   "source": [
    "# Add a column that contains counts of each id in \"unique_mos_id\" column\n",
    "id_cnt = dict(df.unique_mos_id.value_counts())\n",
    "df['id_cnt'] = df.unique_mos_id.apply(lambda x: id_cnt[x])"
   ]
  },
  {
   "cell_type": "code",
   "execution_count": 52,
   "metadata": {},
   "outputs": [],
   "source": [
    "cats = Pipeline([\n",
    "    ('ohe', OneHotEncoder(sparse=False, handle_unknown = 'ignore')), \n",
    "    ('pca', PCA(svd_solver='full'))\n",
    "])\n",
    "catcols = ['mos_gender', 'binned_alle']\n",
    "\n",
    "nums = Pipeline([('std_scaling', StandardScaler())])\n",
    "numcols = ['ordinal_rank_incident', 'id_cnt',]\n",
    "\n",
    "ct = ColumnTransformer([\n",
    "    ('StdScaler', StdScalerByGroup(), ['fado_type', 'open_length']),\n",
    "    ('catcols', cats, catcols),\n",
    "    ('numcols', SimpleImputer(strategy='constant', fill_value=0), numcols)\n",
    "])\n",
    "\n",
    "pl = Pipeline([\n",
    "               ('feats', ct),           \n",
    "               ('classifier', RandomForestClassifier(max_depth=10, \n",
    "                                                     min_samples_leaf=2, \n",
    "                                                     min_samples_split=2,\n",
    "                                                     n_estimators=5)\n",
    "               )\n",
    "              ])"
   ]
  },
  {
   "cell_type": "code",
   "execution_count": null,
   "metadata": {},
   "outputs": [],
   "source": [
    "# features\n",
    "va_df = df.dropna(axis = 0)\n",
    "X = va_df[[\n",
    "           'ordinal_rank_incident',      \n",
    "           'mos_gender', \n",
    "           'fado_type', \n",
    "           'open_length',\n",
    "           'binned_alle',\n",
    "           'id_cnt'\n",
    "           \n",
    "           ]]\n",
    "\n",
    "# outcome\n",
    "y = va_df.outcome_description\n",
    "X_train, X_test, y_train, y_test = train_test_split(X, y, test_size=0.25, random_state=42)\n",
    "   \n",
    "rsqr_lst = []\n",
    "for i in range(200):\n",
    "    pl.fit(X_train, y_train);\n",
    "    rsqr = pl.score(X_test, y_test)\n",
    "    rsqr_lst.append(rsqr)\n",
    "np.mean(rsqr_lst)"
   ]
  },
  {
   "cell_type": "markdown",
   "metadata": {},
   "source": [
    "The average R^2 for my final model is only 0.434, so the model fits the data better than the baseline model."
   ]
  },
  {
   "cell_type": "code",
   "execution_count": 51,
   "metadata": {},
   "outputs": [
    {
     "data": {
      "text/plain": [
       "0.4314705882352941"
      ]
     },
     "execution_count": 51,
     "metadata": {},
     "output_type": "execute_result"
    }
   ],
   "source": [
    "pred = pl.predict(X_test)\n",
    "accuracy_score(y_test, pred)"
   ]
  },
  {
   "cell_type": "markdown",
   "metadata": {},
   "source": [
    "The accuracy of the final model is 0.431."
   ]
  },
  {
   "cell_type": "markdown",
   "metadata": {},
   "source": [
    "Next, I perform a search for the best model parameters using GridSearchCV"
   ]
  },
  {
   "cell_type": "code",
   "execution_count": 16,
   "metadata": {},
   "outputs": [],
   "source": [
    "parameters = {\n",
    "    'classifier__max_depth': [10,13,15,17,19], \n",
    "    'classifier__min_samples_split':[5,7,9],\n",
    "    'classifier__min_samples_leaf':[5,7,9],\n",
    "    'classifier__n_estimators': [9,10,11,12,13]\n",
    "}"
   ]
  },
  {
   "cell_type": "code",
   "execution_count": 17,
   "metadata": {},
   "outputs": [],
   "source": [
    "grids = GridSearchCV(pl, param_grid=parameters, cv=4, return_train_score=True)"
   ]
  },
  {
   "cell_type": "code",
   "execution_count": 18,
   "metadata": {},
   "outputs": [],
   "source": [
    "grids.fit(X_train, y_train);"
   ]
  },
  {
   "cell_type": "code",
   "execution_count": 19,
   "metadata": {},
   "outputs": [
    {
     "data": {
      "text/plain": [
       "{'classifier__max_depth': 15,\n",
       " 'classifier__min_samples_leaf': 5,\n",
       " 'classifier__min_samples_split': 5,\n",
       " 'classifier__n_estimators': 12}"
      ]
     },
     "execution_count": 19,
     "metadata": {},
     "output_type": "execute_result"
    }
   ],
   "source": [
    "grids.best_params_"
   ]
  },
  {
   "cell_type": "code",
   "execution_count": 20,
   "metadata": {},
   "outputs": [
    {
     "data": {
      "text/plain": [
       "0.435"
      ]
     },
     "execution_count": 20,
     "metadata": {},
     "output_type": "execute_result"
    }
   ],
   "source": [
    "grids.best_estimator_.score(X_test, y_test)"
   ]
  },
  {
   "cell_type": "markdown",
   "metadata": {},
   "source": [
    "With the best parameters, R^2 of the model now increases to 0.435."
   ]
  },
  {
   "cell_type": "code",
   "execution_count": 50,
   "metadata": {},
   "outputs": [
    {
     "data": {
      "text/plain": [
       "0.4375"
      ]
     },
     "execution_count": 50,
     "metadata": {},
     "output_type": "execute_result"
    }
   ],
   "source": [
    "grids.best_score_"
   ]
  },
  {
   "cell_type": "markdown",
   "metadata": {},
   "source": [
    "The average over the cross-validation fold scores of the best model is 0.438."
   ]
  },
  {
   "cell_type": "code",
   "execution_count": 22,
   "metadata": {},
   "outputs": [
    {
     "data": {
      "text/plain": [
       "0.435"
      ]
     },
     "execution_count": 22,
     "metadata": {},
     "output_type": "execute_result"
    }
   ],
   "source": [
    "pred = grids.best_estimator_.predict(X_test)\n",
    "accuracy_score(y_test, pred)"
   ]
  },
  {
   "cell_type": "markdown",
   "metadata": {},
   "source": [
    "The accuracy of the final model with the best parameters is 0.435."
   ]
  },
  {
   "cell_type": "code",
   "execution_count": 26,
   "metadata": {},
   "outputs": [],
   "source": [
    "pl_bst = Pipeline([\n",
    "               ('feats', ct),           \n",
    "               ('classifier', RandomForestClassifier(max_depth=15, \n",
    "                                                     min_samples_leaf=5, \n",
    "                                                     min_samples_split=5,\n",
    "                                                     n_estimators=12)\n",
    "               )\n",
    "              ])"
   ]
  },
  {
   "cell_type": "markdown",
   "metadata": {},
   "source": [
    "### Fairness Evaluation"
   ]
  },
  {
   "cell_type": "markdown",
   "metadata": {},
   "source": [
    "I want to explore whether my model is fairer for female police or male police, so I will choose \"mos_gender\" to construct my interesting subset. I then split my subset into two subsets by \"mos_gender\". "
   ]
  },
  {
   "cell_type": "code",
   "execution_count": 27,
   "metadata": {},
   "outputs": [],
   "source": [
    "subdf = va_df[[\n",
    "           'ordinal_rank_incident', \n",
    "           'mos_gender', \n",
    "           'fado_type', \n",
    "           'open_length',\n",
    "           'binned_alle',\n",
    "           'id_cnt',\n",
    "           'outcome_description'    \n",
    "           ]]"
   ]
  },
  {
   "cell_type": "markdown",
   "metadata": {},
   "source": [
    "For my parity measure, I will pick R^2 as the objective and run a permutation test, I choose the significance level of 95%:\n",
    "- Null Hypothesis: My model is fair, and the R^2 for my two subsets are roughly the same\n",
    "- Alternative Hypothesis: My model is unfair, and the R^2 for the male subset is higher than the female subset\n"
   ]
  },
  {
   "cell_type": "code",
   "execution_count": 38,
   "metadata": {},
   "outputs": [],
   "source": [
    "n_repetitions = 100\n",
    "\n",
    "differences = []\n",
    "for _ in range(n_repetitions):\n",
    "    \n",
    "    # shuffle mos_gender\n",
    "    shuffled_gender = (\n",
    "        subdf['mos_gender']\n",
    "        .sample(replace=False, frac=1)\n",
    "        .reset_index(drop=True)\n",
    "    )\n",
    "    \n",
    "    # put them in a table\n",
    "    shuffled = (\n",
    "        subdf\n",
    "        .assign(**{'Shuffled Gender': shuffled_gender})\n",
    "    )\n",
    "    \n",
    "    # compute the R^2 of model on female and male subsets\n",
    "    F = shuffled[shuffled['Shuffled Gender'] =='F']\n",
    "    M = shuffled[shuffled['Shuffled Gender'] =='M']\n",
    "    \n",
    "    X_F = F[['ordinal_rank_incident', \n",
    "           'mos_gender', \n",
    "           'fado_type', \n",
    "           'open_length',\n",
    "           'binned_alle',\n",
    "           'id_cnt']]\n",
    "    y_F = F.outcome_description\n",
    "\n",
    "    X_M = M[['ordinal_rank_incident', \n",
    "               'mos_gender', \n",
    "               'fado_type', \n",
    "               'open_length',\n",
    "               'binned_alle',\n",
    "               'id_cnt']]\n",
    "    y_M = M.outcome_description\n",
    "    \n",
    "    X_F_train, X_F_test, y_F_train, y_F_test = train_test_split(X_F, y_F, test_size=0.25)\n",
    "    X_M_train, X_M_test, y_M_train, y_M_test = train_test_split(X_M, y_M, test_size=0.25)\n",
    "    \n",
    "    pl_bst.fit(X_F_train, y_F_train);\n",
    "    preds_F = pl_bst.predict(X_F_test)\n",
    "    FR2 = pl_bst.score(X_F_test, y_F_test)\n",
    "    \n",
    "    pl_bst.fit(X_M_train, y_M_train);\n",
    "    preds_M = pl_bst.predict(X_M_test)\n",
    "    MR2 = pl_bst.score(X_M_test, y_M_test)\n",
    "    \n",
    "    # diffenerce in R^2\n",
    "    diff = FR2 - MR2\n",
    "    \n",
    "    # add it to the list of results\n",
    "    differences.append(diff)"
   ]
  },
  {
   "cell_type": "code",
   "execution_count": 39,
   "metadata": {},
   "outputs": [
    {
     "data": {
      "text/plain": [
       "-0.06541224616890196"
      ]
     },
     "execution_count": 39,
     "metadata": {},
     "output_type": "execute_result"
    }
   ],
   "source": [
    "# observed difference of R^2 of model on female and male subsets\n",
    "F = subdf[subdf.mos_gender =='F']\n",
    "M = subdf[subdf.mos_gender =='M']\n",
    "X_F = F[['ordinal_rank_incident', \n",
    "           'mos_gender', \n",
    "           'fado_type', \n",
    "           'open_length',\n",
    "           'binned_alle',\n",
    "           'id_cnt']]\n",
    "y_F = F.outcome_description\n",
    "\n",
    "X_M = M[['ordinal_rank_incident', \n",
    "           'mos_gender', \n",
    "           'fado_type', \n",
    "           'open_length',\n",
    "           'binned_alle',\n",
    "           'id_cnt']]\n",
    "y_M = M.outcome_description\n",
    "\n",
    "X_F_train, X_F_test, y_F_train, y_F_test = train_test_split(X_F, y_F, test_size=0.25)\n",
    "X_M_train, X_M_test, y_M_train, y_M_test = train_test_split(X_M, y_M, test_size=0.25)\n",
    "\n",
    "pl_bst.fit(X_F_train, y_F_train);\n",
    "preds_F = pl_bst.predict(X_F_test)\n",
    "FR2 = pl_bst.score(X_F_test, y_F_test)\n",
    "\n",
    "pl_bst.fit(X_M_train, y_M_train);\n",
    "preds_M = pl_bst.predict(X_M_test)\n",
    "MR2 = pl_bst.score(X_M_test, y_M_test)\n",
    "\n",
    "obs = FR2 - MR2\n",
    "obs"
   ]
  },
  {
   "cell_type": "code",
   "execution_count": 40,
   "metadata": {},
   "outputs": [
    {
     "data": {
      "image/png": "[encoded data removed]",
      "text/plain": [
       "<Figure size 432x288 with 1 Axes>"
      ]
     },
     "metadata": {
      "image/png": {
       "height": 249,
       "width": 382
      },
      "needs_background": "light"
     },
     "output_type": "display_data"
    }
   ],
   "source": [
    "# visualize the observed differnce of R^2 with respect to the simulation result\n",
    "pd.Series(differences).plot(kind='hist', density=True, alpha=0.8)\n",
    "plt.scatter(obs, 0.01, color='red', s=40, zorder=2);"
   ]
  },
  {
   "cell_type": "code",
   "execution_count": 41,
   "metadata": {},
   "outputs": [
    {
     "data": {
      "text/plain": [
       "0.81"
      ]
     },
     "execution_count": 41,
     "metadata": {},
     "output_type": "execute_result"
    }
   ],
   "source": [
    "# calculate p-value\n",
    "pval = np.count_nonzero(differences >= obs) / n_repetitions\n",
    "pval"
   ]
  },
  {
   "cell_type": "markdown",
   "metadata": {},
   "source": [
    "Here, I get a p-value of 0.81, so that I fail to reject the null hypothesis and it is very likely that my model is fair on different genders of the police, since the R^2 for my two gender subsets are roughly the same from the simulation test."
   ]
  }
 ],
 "metadata": {
  "kernelspec": {
   "display_name": "Python 3",
   "language": "python",
   "name": "python3"
  },
  "language_info": {
   "codemirror_mode": {
    "name": "ipython",
    "version": 3
   },
   "file_extension": ".py",
   "mimetype": "text/x-python",
   "name": "python",
   "nbconvert_exporter": "python",
   "pygments_lexer": "ipython3",
   "version": "3.7.6"
  }
 },
 "nbformat": 4,
 "nbformat_minor": 2
}
